{
 "cells": [
  {
   "cell_type": "code",
   "execution_count": 2,
   "metadata": {},
   "outputs": [],
   "source": [
    "\n",
    "import warnings\n",
    "warnings.filterwarnings(\"ignore\")\n",
    "import pandas as pd\n",
    "import jieba\n",
    "import re\n",
    "\n",
    "from sklearn.feature_extraction.text import TfidfVectorizer\n",
    "from sklearn.linear_model import RidgeClassifier \n",
    "from sklearn.metrics import f1_score"
   ]
  },
  {
   "cell_type": "markdown",
   "metadata": {},
   "source": [
    "字段\t说明\n",
    "ID\t加密后的ID \n",
    "\n",
    "Age\t0：未知年龄; 1：0-18岁; 2：19-23岁; 3：24-30岁; 4：31-40岁; 5：41-50岁; 6： 51-999岁\n",
    "\n",
    "Gender\t0：未知1：男性2：女性\n",
    "\n",
    "Education\t0：未知学历; 1：博士; 2：硕士; 3：大学生; 4：高中; 5：初中; 6：小学\n",
    "\n",
    "Query List\t搜索词列表\n"
   ]
  },
  {
   "cell_type": "code",
   "execution_count": null,
   "metadata": {},
   "outputs": [],
   "source": [
    "data_source = \"./data/\"\n",
    "train_ori = pd.read_csv(data_source+\"train.csv\", sep=\"###__###\",header = None,encoding=\"utf-8\")\n",
    "train_ori.columns = ['ID', 'Age', 'Gender', 'Education', 'Query_List']\n",
    "test_ori = pd.read_csv(data_source+\"test.csv\", sep=\"###__###\",header = None,encoding=\"utf-8\")\n",
    "test_ori.columns = ['ID', 'Query_List']\n",
    "##  todo list  网址处理\n",
    "#regular1 = re.compile(r'[a-zA-Z]+://[^\\s]*[.com|.cn]*')\n",
    "#将网址和 拆分开来\n",
    "#regular1 = re.compile(r'(http)(s?)(://)')  ###   match http \n",
    "#regular1 = re.compile(r'^((https|http|ftp|rtsp|mms)?:\\/\\/)[^\\s]+')\n",
    "#regular2 = re.compile(r'/([a-z].)[^\\s]*')\n",
    "#train_ori[\"Query\"] = train_ori[\"Query\"].apply(lambda x : re.sub(regular2,\" \",x))\n",
    "train_ori[\"Query\"] = train_ori[\"Query_List\"].apply(lambda x : x.replace(\"\\t\",\" \"))\n",
    "test_ori[\"Query\"]= train_ori[\"Query_List\"].apply(lambda x : x.replace(\"\\t\",\" \"))\n",
    "stopwords=pd.read_csv(\"./stopwords.txt\",index_col=False,quoting=3,sep=\"\\t\",names=['stopword'], encoding='utf-8')\n",
    "stopwords=stopwords['stopword'].values\n",
    "def drop_stopwords(content):\n",
    "    try:\n",
    "        segs=jieba.lcut(content)\n",
    "        # 去标点、停用词等\n",
    "        segs = list(filter(lambda x:len(x)>1, segs))\n",
    "        segs = list(filter(lambda x:x not in stopwords, segs))\n",
    "        # 将句子处理成  __label__1 词语 词语 词语 ……的形式\n",
    "        #sentences.append(\"__label__\"+str(category)+\" , \"+\" \".join(segs))\n",
    "    except Exception as e:\n",
    "        print(line)\n",
    "    return \" \".join(segs)\n",
    "train_ori[\"Query\"] = train_ori[\"Query\"].apply(lambda x : drop_stopwords(x))\n",
    "train_data = train_ori[[\"Education\",\"Query\"]]\n",
    "test_ori[\"Query\"] = test_ori[\"Query\"].apply(lambda x : drop_stopwords(x))\n",
    "test_data = test_ori\n",
    "train_save_file=\"./processed_data/train_data.csv\"\n",
    "train_ori.to_csv(train_save_file)\n",
    "test_save_file=\"./processed_data/test_data.csv\"\n",
    "test_ori.to_csv(test_save_file)\n"
   ]
  },
  {
   "cell_type": "markdown",
   "metadata": {},
   "source": [
    "#  TEXTCNN"
   ]
  },
  {
   "cell_type": "code",
   "execution_count": 3,
   "metadata": {},
   "outputs": [],
   "source": [
    "###  高清楚数据流向！！！ \n",
    "\n",
    "\n",
    "\n",
    "import warnings\n",
    "warnings.filterwarnings(\"ignore\")\n",
    "import pandas as pd\n",
    "import jieba\n",
    "import re\n",
    "\n",
    "saved_file=\"./processed_data/train_data.csv\"\n",
    "train_data = pd.read_csv(saved_file)\n",
    "#test_saved_file=\"./processed_data/test_data.csv\"\n",
    "#test_data = pd.read_csv(test_saved_file)\n",
    "\n",
    "## word2vec tfidf training"
   ]
  },
  {
   "cell_type": "code",
   "execution_count": null,
   "metadata": {},
   "outputs": [],
   "source": [
    "print(\"writing data to fasttext format...\")\n",
    "out = open('./processed_data/train_data.txt', 'w', encoding='utf-8')\n",
    "for sentence in sentences[:95000]:\n",
    "    out.write(sentence+\"\\n\")\n",
    "out.close()\n",
    "test=open('./processed_data/test_data.txt', 'w', encoding='utf-8')\n",
    "for sentence in sentences[95000:]:\n",
    "    test.write(sentence+\"\\n\")\n",
    "test.close()\n",
    "print(\"done!\")"
   ]
  },
  {
   "cell_type": "code",
   "execution_count": null,
   "metadata": {
    "scrolled": true
   },
   "outputs": [],
   "source": [
    "#tfidf \n",
    "#tfidf = TfidfVectorizer(ngram_range=(1,3), max_features=3000)\n",
    "#train_test = tfidf.fit_transform(train_data[\"Query\"][:10000])\n",
    "\n",
    "#word2vec \n",
    "## 1 gensim\n",
    "#from gensim.models.word2vec import Word2Vec\n",
    "\n",
    "#num_features = 100     # Word vector dimensionality\n",
    "#num_workers = 3       # Number of threads to run in parallel\n",
    "\n",
    "#train_texts = train_data[\"Query\"]\n",
    "#model = Word2Vec(train_texts, workers=num_workers, size=num_features)\n",
    "#model.init_sims(replace=True)\n",
    "\n",
    "# save model\n",
    "#model.save(\"./word2vec.bin\")\n",
    "#这个应用还有些问题"
   ]
  },
  {
   "cell_type": "code",
   "execution_count": 30,
   "metadata": {},
   "outputs": [
    {
     "name": "stdout",
     "output_type": "stream",
     "text": [
      "contents ['柔和', '双沟', '女生', '中财网', '首页', '财经', 'http', 'pan', 'baidu', '1plpjtn9']\n",
      "['<PAD>', '图片', '手机', '小说', '视频', '下载', '大全', 'qq', '电影', '中国']\n"
     ]
    }
   ],
   "source": [
    "## 构建词映射\n",
    "\n",
    "## vocab\n",
    "from collections import Counter\n",
    "import numpy as np\n",
    "\n",
    "def build_vocab(train_data,vocab_file,vocab_size=5000):\n",
    "    contents =[]\n",
    "    for td in train_data:\n",
    "        contents.extend(td.strip().split(' ') )\n",
    "    print(\"contents\",contents[:10])\n",
    "    counter = Counter(contents)\n",
    "    count_pairs = counter.most_common(vocab_size - 1)\n",
    "    words, _ = list(zip(*count_pairs))\n",
    "    # 添加一个 <PAD> 来将所有文本pad为同一长度\n",
    "    words = ['<PAD>'] + list(words)\n",
    "    print(words[:10])\n",
    "    f = open(vocab_file, mode='w')\n",
    "    f.write('\\n'.join(words) + '\\n')\n",
    "    f.close()\n",
    "# 这里面vocab size 不好确定\n",
    "build_vocab(train_data[\"Query\"],\"processed_data/vocab.txt\",vocab_size=1000000)"
   ]
  },
  {
   "cell_type": "code",
   "execution_count": 31,
   "metadata": {},
   "outputs": [],
   "source": [
    "vocab_file = \"processed_data/vocab.txt\"\n",
    "with open(vocab_file) as fp:\n",
    "    words = [_.strip() for _ in fp.readlines()]\n",
    "    word_to_id = dict(zip(words, range(len(words))))"
   ]
  },
  {
   "cell_type": "code",
   "execution_count": 34,
   "metadata": {},
   "outputs": [],
   "source": [
    "def encode_cate(content, words):\n",
    "    \"\"\"将id表示的内容转换为文字\"\"\"\n",
    "    return [(words[x] if x in words else 1000000) for x in content]\n",
    "\n",
    "def encode_sentences(contents, words):\n",
    "    \"\"\"将id表示的内容转换为文字\"\"\"\n",
    "    return [encode_cate(x,words) for x in contents]"
   ]
  },
  {
   "cell_type": "code",
   "execution_count": 48,
   "metadata": {},
   "outputs": [],
   "source": [
    "from tensorflow.keras.utils import to_categorical\n",
    "gender =[0,1,2]\n",
    "#x_train = encode_sentences([content.strip().split(\" \") for content in train_data[\"Query\"]],word_to_id)\n",
    "#y_train = to_categorical(encode_cate(train_data[\"Gender\"],gender))\n",
    "x_train = encode_sentences([content.strip().split(\" \") for content in train_data[\"Query\"][:10000]],word_to_id)\n",
    "y_train = to_categorical(encode_cate(train_data[\"Gender\"][:10000],gender))\n",
    "x_test = encode_sentences([content.strip().split(\" \") for content in train_data[\"Query\"][-5000:]],word_to_id)\n",
    "y_test = to_categorical(encode_cate(train_data[\"Gender\"][-5000:],gender))\n"
   ]
  },
  {
   "cell_type": "code",
   "execution_count": 56,
   "metadata": {},
   "outputs": [
    {
     "data": {
      "text/plain": [
       "100"
      ]
     },
     "execution_count": 56,
     "metadata": {},
     "output_type": "execute_result"
    }
   ],
   "source": [
    "len(x_train[0])"
   ]
  },
  {
   "cell_type": "code",
   "execution_count": 57,
   "metadata": {},
   "outputs": [],
   "source": [
    "##  textCNN\n",
    "from tensorflow.keras import Input, Model\n",
    "from tensorflow.keras.layers import Embedding, Dense, Conv1D, GlobalMaxPooling1D, Concatenate, Dropout\n",
    "\n",
    "class TextCNN(object):\n",
    "    def __init__(self, maxlen, max_features, embedding_dims,\n",
    "                 class_num=3,\n",
    "                 last_activation='softmax'):\n",
    "        self.maxlen = maxlen\n",
    "        self.max_features = max_features\n",
    "        self.embedding_dims = embedding_dims\n",
    "        self.class_num = class_num\n",
    "        self.last_activation = last_activation\n",
    "\n",
    "    def get_model(self):\n",
    "        input = Input((self.maxlen,))\n",
    "        embedding = Embedding(self.max_features, self.embedding_dims, input_length=self.maxlen)(input)\n",
    "        convs = []\n",
    "        for kernel_size in [3, 4, 5]:\n",
    "            c = Conv1D(128, kernel_size, activation='relu')(embedding)\n",
    "            c = GlobalMaxPooling1D()(c)\n",
    "            convs.append(c)\n",
    "        x = Concatenate()(convs)\n",
    "\n",
    "        output = Dense(self.class_num, activation=self.last_activation)(x)\n",
    "        model = Model(inputs=input, outputs=output)\n",
    "        return model\n"
   ]
  },
  {
   "cell_type": "code",
   "execution_count": 59,
   "metadata": {},
   "outputs": [
    {
     "name": "stdout",
     "output_type": "stream",
     "text": [
      "构建模型...\n",
      "训练...\n",
      "Train on 10000 samples, validate on 5000 samples\n",
      "Epoch 1/8\n",
      " 9984/10000 [============================>.] - ETA: 0s - loss: 0.7272 - accuracy: 0.6408\n",
      "Epoch 00001: saving model to ./cnn_model.h5\n",
      "10000/10000 [==============================] - 167s 17ms/sample - loss: 0.7267 - accuracy: 0.6411 - val_loss: 0.5837 - val_accuracy: 0.7446\n",
      "Epoch 2/8\n",
      " 9984/10000 [============================>.] - ETA: 0s - loss: 0.4638 - accuracy: 0.8359\n",
      "Epoch 00002: saving model to ./cnn_model.h5\n",
      "10000/10000 [==============================] - 160s 16ms/sample - loss: 0.4638 - accuracy: 0.8356 - val_loss: 0.5758 - val_accuracy: 0.7606\n",
      "Epoch 3/8\n",
      " 9984/10000 [============================>.] - ETA: 0s - loss: 0.1848 - accuracy: 0.9491\n",
      "Epoch 00003: saving model to ./cnn_model.h5\n",
      "10000/10000 [==============================] - 170s 17ms/sample - loss: 0.1848 - accuracy: 0.9491 - val_loss: 0.7446 - val_accuracy: 0.7364\n",
      "Epoch 4/8\n",
      " 9984/10000 [============================>.] - ETA: 0s - loss: 0.0683 - accuracy: 0.9760\n",
      "Epoch 00004: saving model to ./cnn_model.h5\n",
      "10000/10000 [==============================] - 161s 16ms/sample - loss: 0.0684 - accuracy: 0.9759 - val_loss: 0.9881 - val_accuracy: 0.7322\n"
     ]
    }
   ],
   "source": [
    "from tensorflow.keras.preprocessing import sequence\n",
    "import random\n",
    "from sklearn.model_selection import train_test_split\n",
    "from tensorflow.keras.callbacks import EarlyStopping, ModelCheckpoint\n",
    "from tensorflow.keras.utils import to_categorical\n",
    "# 神经网络配置\n",
    "max_features = 1000001\n",
    "maxlen = 100\n",
    "batch_size = 64\n",
    "embedding_dims = 50\n",
    "epochs = 8\n",
    "x_train = sequence.pad_sequences(x_train, maxlen=maxlen)\n",
    "x_test = sequence.pad_sequences(x_test, maxlen=maxlen)\n",
    "\n",
    "print('构建模型...')\n",
    "model = TextCNN(maxlen, max_features, embedding_dims).get_model()\n",
    "model.compile('adam', 'categorical_crossentropy', metrics=['accuracy'])\n",
    "\n",
    "print('训练...')\n",
    "# 设定callbacks回调函数\n",
    "my_callbacks = [\n",
    "    ModelCheckpoint('./cnn_model.h5', verbose=1),\n",
    "    EarlyStopping(monitor='val_accuracy', patience=2, mode='max')\n",
    "]\n",
    "# fit拟合数据\n",
    "history = model.fit(x_train, y_train,\n",
    "          batch_size=batch_size,\n",
    "          epochs=epochs,\n",
    "          callbacks=my_callbacks,\n",
    "          validation_data=(x_test, y_test))\n",
    "\n",
    "#print('对测试集预测...')\n",
    "#result = model.predict(x_test)\n",
    " "
   ]
  },
  {
   "cell_type": "code",
   "execution_count": 60,
   "metadata": {},
   "outputs": [
    {
     "name": "stdout",
     "output_type": "stream",
     "text": [
      "对测试集预测...\n"
     ]
    }
   ],
   "source": [
    "print('对测试集预测...')\n",
    "result = model.predict(x_test)"
   ]
  },
  {
   "cell_type": "code",
   "execution_count": 63,
   "metadata": {},
   "outputs": [
    {
     "data": {
      "image/png": "[encoded data removed]",
      "text/plain": [
       "<Figure size 432x288 with 1 Axes>"
      ]
     },
     "metadata": {
      "needs_background": "light"
     },
     "output_type": "display_data"
    }
   ],
   "source": [
    "import matplotlib.pyplot as plt\n",
    "plt.switch_backend('agg')\n",
    "%matplotlib inline\n",
    "\n",
    "fig1 = plt.figure()\n",
    "plt.plot(history.history['loss'],'r',linewidth=3.0)\n",
    "plt.plot(history.history['val_loss'],'b',linewidth=3.0)\n",
    "plt.legend(['Training loss', 'Validation Loss'],fontsize=18)\n",
    "plt.xlabel('Epochs ',fontsize=16)\n",
    "plt.ylabel('Loss',fontsize=16)\n",
    "plt.title('Loss Curves :CNN',fontsize=16)\n",
    "fig1.savefig('loss_cnn.png')\n",
    "plt.show()\n"
   ]
  }
 ],
 "metadata": {
  "kernelspec": {
   "display_name": "Python 3",
   "language": "python",
   "name": "python3"
  },
  "language_info": {
   "codemirror_mode": {
    "name": "ipython",
    "version": 3
   },
   "file_extension": ".py",
   "mimetype": "text/x-python",
   "name": "python",
   "nbconvert_exporter": "python",
   "pygments_lexer": "ipython3",
   "version": "3.7.4"
  }
 },
 "nbformat": 4,
 "nbformat_minor": 2
}
